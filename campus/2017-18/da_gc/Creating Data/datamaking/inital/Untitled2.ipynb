{
 "cells": [
  {
   "cell_type": "code",
   "execution_count": 24,
   "metadata": {
    "collapsed": true
   },
   "outputs": [
    {
     "name": "stdout",
     "output_type": "stream",
     "text": [
      "Aditya Birla Sun Life Mutual Fund.txt\r\n",
      "age Data\r\n",
      "data observing.ipynb\r\n",
      "Deliverables.docx\r\n",
      "featurestry.py\r\n",
      "filewisefund.npy\r\n",
      "fundtypenames.pkl\r\n",
      "gc.sublime-workspace\r\n",
      "HDFC Mutual Fund.txt\r\n",
      "ICICI Prudential Mutual Fund.txt\r\n",
      "Instruction to get Mutual Fund data.docx\r\n",
      "Marking Scheme - Inter Hall IIT KGP.docx\r\n",
      "MF_IIT_DATA_V1.csv\r\n",
      "Problem Statement - Inter Hall IIT KGP.docx\r\n",
      "Reliance Mutual Fund.txt\r\n",
      "SBI Mutual Fund.txt\r\n",
      "schemes.pkl\r\n",
      "sector Data\r\n",
      "Sundaram Mutual Fund.txt\r\n",
      "Tata Mutual Fund.txt\r\n",
      "Untitled1.ipynb\r\n",
      "Untitled2.ipynb\r\n",
      "Untitled.ipynb\r\n",
      "UTI Mutual Fund.txt\r\n"
     ]
    }
   ],
   "source": [
    "! ls"
   ]
  },
  {
   "cell_type": "code",
   "execution_count": 1,
   "metadata": {
    "collapsed": true
   },
   "outputs": [],
   "source": [
    "import numpy as np\n",
    "import pandas as pd\n",
    "import seaborn as sns\n",
    "import matplotlib.pyplot as plt\n",
    "% matplotlib inline\n",
    "import tqdm as tqdm\n",
    "import os\n",
    "import pickle as pkl"
   ]
  },
  {
   "cell_type": "markdown",
   "metadata": {},
   "source": [
    "#### List of Fun Houses"
   ]
  },
  {
   "cell_type": "code",
   "execution_count": 2,
   "metadata": {
    "collapsed": true
   },
   "outputs": [],
   "source": [
    "files = os.listdir(os.getcwd())\n",
    "for index, i in enumerate(np.array(files)):\n",
    "    if i[-3:] != 'txt':\n",
    "        #print(type(i))\n",
    "        files.remove(i)"
   ]
  },
  {
   "cell_type": "code",
   "execution_count": 10,
   "metadata": {},
   "outputs": [
    {
     "data": {
      "text/plain": [
       "'HDFC Mutual Fund'"
      ]
     },
     "execution_count": 10,
     "metadata": {},
     "output_type": "execute_result"
    }
   ],
   "source": [
    "files[1][:-4]"
   ]
  },
  {
   "cell_type": "markdown",
   "metadata": {},
   "source": [
    "#### functions for finding words and storing lines in a file"
   ]
  },
  {
   "cell_type": "code",
   "execution_count": 3,
   "metadata": {
    "collapsed": true
   },
   "outputs": [],
   "source": [
    "def numb(file, word):\n",
    "    with open(file) as f:\n",
    "        contents = f.read()\n",
    "        count = contents.count(word)\n",
    "    return count"
   ]
  },
  {
   "cell_type": "code",
   "execution_count": 4,
   "metadata": {
    "collapsed": true
   },
   "outputs": [],
   "source": [
    "def reqline(file, word):\n",
    "    a = []\n",
    "    l = []\n",
    "    with open(file) as f:\n",
    "        for i, lines in enumerate(f):\n",
    "            if word in lines:\n",
    "                a.append(lines[:-1])\n",
    "                l.append(i)\n",
    "    return a, l"
   ]
  },
  {
   "cell_type": "code",
   "execution_count": 6,
   "metadata": {
    "collapsed": true
   },
   "outputs": [
    {
     "name": "stdout",
     "output_type": "stream",
     "text": [
      "11\n",
      "10\n",
      "10\n",
      "9\n",
      "10\n",
      "7\n",
      "8\n",
      "10\n"
     ]
    }
   ],
   "source": [
    "for f in files:\n",
    "    print(numb(f, 'Open Ended Schemes'))"
   ]
  },
  {
   "cell_type": "markdown",
   "metadata": {},
   "source": [
    "#### Total number of fund houses"
   ]
  },
  {
   "cell_type": "code",
   "execution_count": 5,
   "metadata": {
    "collapsed": true
   },
   "outputs": [
    {
     "name": "stdout",
     "output_type": "stream",
     "text": [
      "['Open Ended Schemes ( Balanced )' 'Open Ended Schemes ( ELSS )'\n",
      " 'Open Ended Schemes ( Floating Rate )'\n",
      " 'Open Ended Schemes ( Fund of Funds - Domestic )'\n",
      " 'Open Ended Schemes ( Fund of Funds - Overseas )'\n",
      " 'Open Ended Schemes ( GOLD ETFs )' 'Open Ended Schemes ( Gilt )'\n",
      " 'Open Ended Schemes ( Growth )' 'Open Ended Schemes ( Income )'\n",
      " 'Open Ended Schemes ( Liquid )' 'Open Ended Schemes ( Money Market )'\n",
      " 'Open Ended Schemes ( Other ETFs )']\n"
     ]
    }
   ],
   "source": [
    "a = np.array([])\n",
    "for f in files:\n",
    "    #print(f)\n",
    "    a = np.append(a, reqline(f, 'Open Ended Schemes')[0])\n",
    "funds = np.unique(a)\n",
    "del a\n",
    "print(funds)"
   ]
  },
  {
   "cell_type": "markdown",
   "metadata": {},
   "source": [
    "#### Ids for extracting data from dataframe of each fund house"
   ]
  },
  {
   "cell_type": "code",
   "execution_count": 6,
   "metadata": {
    "collapsed": true
   },
   "outputs": [],
   "source": [
    "ids = []\n",
    "for i in files:\n",
    "    l = []\n",
    "    temp = pd.read_csv(i, delimiter = ';', low_memory=False)\n",
    "    for p, q in enumerate(list(temp['Scheme Code'].values)):\n",
    "        if q == i[:-4]:\n",
    "            l.append(p)\n",
    "    ids.append(l)"
   ]
  },
  {
   "cell_type": "code",
   "execution_count": 25,
   "metadata": {
    "collapsed": true
   },
   "outputs": [],
   "source": [
    "np.save('fundtypenames', funds)"
   ]
  },
  {
   "cell_type": "markdown",
   "metadata": {},
   "source": [
    "##### Fund type in each fund house"
   ]
  },
  {
   "cell_type": "code",
   "execution_count": 7,
   "metadata": {
    "collapsed": true,
    "scrolled": false
   },
   "outputs": [],
   "source": [
    "a = []\n",
    "for f in files:\n",
    "    a.append(reqline(f, 'Open Ended Schemes')[0])"
   ]
  },
  {
   "cell_type": "code",
   "execution_count": 23,
   "metadata": {
    "collapsed": true
   },
   "outputs": [],
   "source": [
    "np.save('filewisefund', a)"
   ]
  },
  {
   "cell_type": "markdown",
   "metadata": {},
   "source": [
    "##### Fund houses in each fund type"
   ]
  },
  {
   "cell_type": "code",
   "execution_count": 31,
   "metadata": {
    "collapsed": true
   },
   "outputs": [],
   "source": [
    "a = []\n",
    "for t in funds:\n",
    "    c = []\n",
    "    for f in files:\n",
    "        if numb(f, t) == 1:\n",
    "            c.append(f)\n",
    "    a.append(c)"
   ]
  },
  {
   "cell_type": "code",
   "execution_count": 35,
   "metadata": {
    "collapsed": true
   },
   "outputs": [],
   "source": [
    "np.save('fundwisefile', a)"
   ]
  },
  {
   "cell_type": "markdown",
   "metadata": {},
   "source": [
    "#### data extraction fund type wise"
   ]
  },
  {
   "cell_type": "code",
   "execution_count": 41,
   "metadata": {},
   "outputs": [
    {
     "name": "stderr",
     "output_type": "stream",
     "text": [
      "8it [00:11,  1.41s/it]\n",
      "8it [00:06,  1.18it/s]\n",
      "8it [00:03,  2.11it/s]\n",
      "8it [00:05,  1.56it/s]\n",
      "8it [00:03,  2.26it/s]\n",
      "8it [00:05,  1.41it/s]\n",
      "8it [00:06,  1.22it/s]\n",
      "8it [00:06,  1.21it/s]\n",
      "8it [00:07,  1.04it/s]\n",
      "8it [00:16,  2.06s/it]\n",
      "8it [00:09,  1.13s/it]\n",
      "8it [00:53,  6.70s/it]\n"
     ]
    }
   ],
   "source": [
    "t2 = []\n",
    "fundtype = []\n",
    "for t in funds:\n",
    "    funddata = []\n",
    "    t1 = []\n",
    "    for i, f in tqdm.tqdm(enumerate(files)):\n",
    "        if numb(f, t) == 1:\n",
    "            temp = reqline(f, 'Open Ended Schemes')[0].index(t)\n",
    "            data = pd.read_csv(f, delimiter = ';', low_memory=False)\n",
    "            if temp+1 != len(ids[i]):\n",
    "                funddata.append(data[ids[i][temp]+1:ids[i][temp+1]-1])\n",
    "                t1.append([f[:-4]]*len(range(ids[i][temp]+1,ids[i][temp+1]-1)))\n",
    "            else:\n",
    "                temp3 = len(data)\n",
    "                funddata.append(data[ids[i][temp]+1:])\n",
    "                t1.append([f[:-4]]*len(range(ids[i][temp]+1,temp3)))\n",
    "    t2.append(t1)\n",
    "    fundtype.append(funddata)"
   ]
  },
  {
   "cell_type": "code",
   "execution_count": 53,
   "metadata": {
    "scrolled": true
   },
   "outputs": [],
   "source": [
    "final = []\n",
    "for i in range(12):\n",
    "    final1 = np.array([])\n",
    "    for j in t2[i]:\n",
    "        final1 = np.append(final1, np.array(j))\n",
    "    final.append(pd.DataFrame(final1, columns = ['Fund House']))"
   ]
  },
  {
   "cell_type": "code",
   "execution_count": 55,
   "metadata": {},
   "outputs": [
    {
     "data": {
      "text/html": [
       "<div>\n",
       "<style>\n",
       "    .dataframe thead tr:only-child th {\n",
       "        text-align: right;\n",
       "    }\n",
       "\n",
       "    .dataframe thead th {\n",
       "        text-align: left;\n",
       "    }\n",
       "\n",
       "    .dataframe tbody tr th {\n",
       "        vertical-align: top;\n",
       "    }\n",
       "</style>\n",
       "<table border=\"1\" class=\"dataframe\">\n",
       "  <thead>\n",
       "    <tr style=\"text-align: right;\">\n",
       "      <th></th>\n",
       "      <th>Fund House</th>\n",
       "    </tr>\n",
       "  </thead>\n",
       "  <tbody>\n",
       "    <tr>\n",
       "      <th>0</th>\n",
       "      <td>Aditya Birla Sun Life Mutual Fund</td>\n",
       "    </tr>\n",
       "    <tr>\n",
       "      <th>1</th>\n",
       "      <td>Aditya Birla Sun Life Mutual Fund</td>\n",
       "    </tr>\n",
       "    <tr>\n",
       "      <th>2</th>\n",
       "      <td>Aditya Birla Sun Life Mutual Fund</td>\n",
       "    </tr>\n",
       "    <tr>\n",
       "      <th>3</th>\n",
       "      <td>Aditya Birla Sun Life Mutual Fund</td>\n",
       "    </tr>\n",
       "    <tr>\n",
       "      <th>4</th>\n",
       "      <td>Aditya Birla Sun Life Mutual Fund</td>\n",
       "    </tr>\n",
       "    <tr>\n",
       "      <th>5</th>\n",
       "      <td>Aditya Birla Sun Life Mutual Fund</td>\n",
       "    </tr>\n",
       "    <tr>\n",
       "      <th>6</th>\n",
       "      <td>Aditya Birla Sun Life Mutual Fund</td>\n",
       "    </tr>\n",
       "    <tr>\n",
       "      <th>7</th>\n",
       "      <td>Aditya Birla Sun Life Mutual Fund</td>\n",
       "    </tr>\n",
       "    <tr>\n",
       "      <th>8</th>\n",
       "      <td>Aditya Birla Sun Life Mutual Fund</td>\n",
       "    </tr>\n",
       "    <tr>\n",
       "      <th>9</th>\n",
       "      <td>Aditya Birla Sun Life Mutual Fund</td>\n",
       "    </tr>\n",
       "    <tr>\n",
       "      <th>10</th>\n",
       "      <td>Aditya Birla Sun Life Mutual Fund</td>\n",
       "    </tr>\n",
       "    <tr>\n",
       "      <th>11</th>\n",
       "      <td>Aditya Birla Sun Life Mutual Fund</td>\n",
       "    </tr>\n",
       "    <tr>\n",
       "      <th>12</th>\n",
       "      <td>Aditya Birla Sun Life Mutual Fund</td>\n",
       "    </tr>\n",
       "    <tr>\n",
       "      <th>13</th>\n",
       "      <td>Aditya Birla Sun Life Mutual Fund</td>\n",
       "    </tr>\n",
       "    <tr>\n",
       "      <th>14</th>\n",
       "      <td>Aditya Birla Sun Life Mutual Fund</td>\n",
       "    </tr>\n",
       "    <tr>\n",
       "      <th>15</th>\n",
       "      <td>Aditya Birla Sun Life Mutual Fund</td>\n",
       "    </tr>\n",
       "    <tr>\n",
       "      <th>16</th>\n",
       "      <td>Aditya Birla Sun Life Mutual Fund</td>\n",
       "    </tr>\n",
       "    <tr>\n",
       "      <th>17</th>\n",
       "      <td>Aditya Birla Sun Life Mutual Fund</td>\n",
       "    </tr>\n",
       "    <tr>\n",
       "      <th>18</th>\n",
       "      <td>Aditya Birla Sun Life Mutual Fund</td>\n",
       "    </tr>\n",
       "    <tr>\n",
       "      <th>19</th>\n",
       "      <td>Aditya Birla Sun Life Mutual Fund</td>\n",
       "    </tr>\n",
       "    <tr>\n",
       "      <th>20</th>\n",
       "      <td>Aditya Birla Sun Life Mutual Fund</td>\n",
       "    </tr>\n",
       "    <tr>\n",
       "      <th>21</th>\n",
       "      <td>Aditya Birla Sun Life Mutual Fund</td>\n",
       "    </tr>\n",
       "    <tr>\n",
       "      <th>22</th>\n",
       "      <td>Aditya Birla Sun Life Mutual Fund</td>\n",
       "    </tr>\n",
       "    <tr>\n",
       "      <th>23</th>\n",
       "      <td>Aditya Birla Sun Life Mutual Fund</td>\n",
       "    </tr>\n",
       "    <tr>\n",
       "      <th>24</th>\n",
       "      <td>Aditya Birla Sun Life Mutual Fund</td>\n",
       "    </tr>\n",
       "    <tr>\n",
       "      <th>25</th>\n",
       "      <td>Aditya Birla Sun Life Mutual Fund</td>\n",
       "    </tr>\n",
       "    <tr>\n",
       "      <th>26</th>\n",
       "      <td>Aditya Birla Sun Life Mutual Fund</td>\n",
       "    </tr>\n",
       "    <tr>\n",
       "      <th>27</th>\n",
       "      <td>Aditya Birla Sun Life Mutual Fund</td>\n",
       "    </tr>\n",
       "    <tr>\n",
       "      <th>28</th>\n",
       "      <td>Aditya Birla Sun Life Mutual Fund</td>\n",
       "    </tr>\n",
       "    <tr>\n",
       "      <th>29</th>\n",
       "      <td>Aditya Birla Sun Life Mutual Fund</td>\n",
       "    </tr>\n",
       "    <tr>\n",
       "      <th>...</th>\n",
       "      <td>...</td>\n",
       "    </tr>\n",
       "    <tr>\n",
       "      <th>68006</th>\n",
       "      <td>UTI Mutual Fund</td>\n",
       "    </tr>\n",
       "    <tr>\n",
       "      <th>68007</th>\n",
       "      <td>UTI Mutual Fund</td>\n",
       "    </tr>\n",
       "    <tr>\n",
       "      <th>68008</th>\n",
       "      <td>UTI Mutual Fund</td>\n",
       "    </tr>\n",
       "    <tr>\n",
       "      <th>68009</th>\n",
       "      <td>UTI Mutual Fund</td>\n",
       "    </tr>\n",
       "    <tr>\n",
       "      <th>68010</th>\n",
       "      <td>UTI Mutual Fund</td>\n",
       "    </tr>\n",
       "    <tr>\n",
       "      <th>68011</th>\n",
       "      <td>UTI Mutual Fund</td>\n",
       "    </tr>\n",
       "    <tr>\n",
       "      <th>68012</th>\n",
       "      <td>UTI Mutual Fund</td>\n",
       "    </tr>\n",
       "    <tr>\n",
       "      <th>68013</th>\n",
       "      <td>UTI Mutual Fund</td>\n",
       "    </tr>\n",
       "    <tr>\n",
       "      <th>68014</th>\n",
       "      <td>UTI Mutual Fund</td>\n",
       "    </tr>\n",
       "    <tr>\n",
       "      <th>68015</th>\n",
       "      <td>UTI Mutual Fund</td>\n",
       "    </tr>\n",
       "    <tr>\n",
       "      <th>68016</th>\n",
       "      <td>UTI Mutual Fund</td>\n",
       "    </tr>\n",
       "    <tr>\n",
       "      <th>68017</th>\n",
       "      <td>UTI Mutual Fund</td>\n",
       "    </tr>\n",
       "    <tr>\n",
       "      <th>68018</th>\n",
       "      <td>UTI Mutual Fund</td>\n",
       "    </tr>\n",
       "    <tr>\n",
       "      <th>68019</th>\n",
       "      <td>UTI Mutual Fund</td>\n",
       "    </tr>\n",
       "    <tr>\n",
       "      <th>68020</th>\n",
       "      <td>UTI Mutual Fund</td>\n",
       "    </tr>\n",
       "    <tr>\n",
       "      <th>68021</th>\n",
       "      <td>UTI Mutual Fund</td>\n",
       "    </tr>\n",
       "    <tr>\n",
       "      <th>68022</th>\n",
       "      <td>UTI Mutual Fund</td>\n",
       "    </tr>\n",
       "    <tr>\n",
       "      <th>68023</th>\n",
       "      <td>UTI Mutual Fund</td>\n",
       "    </tr>\n",
       "    <tr>\n",
       "      <th>68024</th>\n",
       "      <td>UTI Mutual Fund</td>\n",
       "    </tr>\n",
       "    <tr>\n",
       "      <th>68025</th>\n",
       "      <td>UTI Mutual Fund</td>\n",
       "    </tr>\n",
       "    <tr>\n",
       "      <th>68026</th>\n",
       "      <td>UTI Mutual Fund</td>\n",
       "    </tr>\n",
       "    <tr>\n",
       "      <th>68027</th>\n",
       "      <td>UTI Mutual Fund</td>\n",
       "    </tr>\n",
       "    <tr>\n",
       "      <th>68028</th>\n",
       "      <td>UTI Mutual Fund</td>\n",
       "    </tr>\n",
       "    <tr>\n",
       "      <th>68029</th>\n",
       "      <td>UTI Mutual Fund</td>\n",
       "    </tr>\n",
       "    <tr>\n",
       "      <th>68030</th>\n",
       "      <td>UTI Mutual Fund</td>\n",
       "    </tr>\n",
       "    <tr>\n",
       "      <th>68031</th>\n",
       "      <td>UTI Mutual Fund</td>\n",
       "    </tr>\n",
       "    <tr>\n",
       "      <th>68032</th>\n",
       "      <td>UTI Mutual Fund</td>\n",
       "    </tr>\n",
       "    <tr>\n",
       "      <th>68033</th>\n",
       "      <td>UTI Mutual Fund</td>\n",
       "    </tr>\n",
       "    <tr>\n",
       "      <th>68034</th>\n",
       "      <td>UTI Mutual Fund</td>\n",
       "    </tr>\n",
       "    <tr>\n",
       "      <th>68035</th>\n",
       "      <td>UTI Mutual Fund</td>\n",
       "    </tr>\n",
       "  </tbody>\n",
       "</table>\n",
       "<p>68036 rows × 1 columns</p>\n",
       "</div>"
      ],
      "text/plain": [
       "                              Fund House\n",
       "0      Aditya Birla Sun Life Mutual Fund\n",
       "1      Aditya Birla Sun Life Mutual Fund\n",
       "2      Aditya Birla Sun Life Mutual Fund\n",
       "3      Aditya Birla Sun Life Mutual Fund\n",
       "4      Aditya Birla Sun Life Mutual Fund\n",
       "5      Aditya Birla Sun Life Mutual Fund\n",
       "6      Aditya Birla Sun Life Mutual Fund\n",
       "7      Aditya Birla Sun Life Mutual Fund\n",
       "8      Aditya Birla Sun Life Mutual Fund\n",
       "9      Aditya Birla Sun Life Mutual Fund\n",
       "10     Aditya Birla Sun Life Mutual Fund\n",
       "11     Aditya Birla Sun Life Mutual Fund\n",
       "12     Aditya Birla Sun Life Mutual Fund\n",
       "13     Aditya Birla Sun Life Mutual Fund\n",
       "14     Aditya Birla Sun Life Mutual Fund\n",
       "15     Aditya Birla Sun Life Mutual Fund\n",
       "16     Aditya Birla Sun Life Mutual Fund\n",
       "17     Aditya Birla Sun Life Mutual Fund\n",
       "18     Aditya Birla Sun Life Mutual Fund\n",
       "19     Aditya Birla Sun Life Mutual Fund\n",
       "20     Aditya Birla Sun Life Mutual Fund\n",
       "21     Aditya Birla Sun Life Mutual Fund\n",
       "22     Aditya Birla Sun Life Mutual Fund\n",
       "23     Aditya Birla Sun Life Mutual Fund\n",
       "24     Aditya Birla Sun Life Mutual Fund\n",
       "25     Aditya Birla Sun Life Mutual Fund\n",
       "26     Aditya Birla Sun Life Mutual Fund\n",
       "27     Aditya Birla Sun Life Mutual Fund\n",
       "28     Aditya Birla Sun Life Mutual Fund\n",
       "29     Aditya Birla Sun Life Mutual Fund\n",
       "...                                  ...\n",
       "68006                    UTI Mutual Fund\n",
       "68007                    UTI Mutual Fund\n",
       "68008                    UTI Mutual Fund\n",
       "68009                    UTI Mutual Fund\n",
       "68010                    UTI Mutual Fund\n",
       "68011                    UTI Mutual Fund\n",
       "68012                    UTI Mutual Fund\n",
       "68013                    UTI Mutual Fund\n",
       "68014                    UTI Mutual Fund\n",
       "68015                    UTI Mutual Fund\n",
       "68016                    UTI Mutual Fund\n",
       "68017                    UTI Mutual Fund\n",
       "68018                    UTI Mutual Fund\n",
       "68019                    UTI Mutual Fund\n",
       "68020                    UTI Mutual Fund\n",
       "68021                    UTI Mutual Fund\n",
       "68022                    UTI Mutual Fund\n",
       "68023                    UTI Mutual Fund\n",
       "68024                    UTI Mutual Fund\n",
       "68025                    UTI Mutual Fund\n",
       "68026                    UTI Mutual Fund\n",
       "68027                    UTI Mutual Fund\n",
       "68028                    UTI Mutual Fund\n",
       "68029                    UTI Mutual Fund\n",
       "68030                    UTI Mutual Fund\n",
       "68031                    UTI Mutual Fund\n",
       "68032                    UTI Mutual Fund\n",
       "68033                    UTI Mutual Fund\n",
       "68034                    UTI Mutual Fund\n",
       "68035                    UTI Mutual Fund\n",
       "\n",
       "[68036 rows x 1 columns]"
      ]
     },
     "execution_count": 55,
     "metadata": {},
     "output_type": "execute_result"
    }
   ],
   "source": [
    "final[0]"
   ]
  },
  {
   "cell_type": "code",
   "execution_count": 122,
   "metadata": {
    "collapsed": true
   },
   "outputs": [],
   "source": [
    "temp = []\n",
    "for i in range(12):\n",
    "    temp.append(pd.concat(fundtype[i]))\n",
    "fundtype = temp\n",
    "del temp"
   ]
  },
  {
   "cell_type": "code",
   "execution_count": 126,
   "metadata": {
    "collapsed": true,
    "scrolled": true
   },
   "outputs": [],
   "source": [
    "pkl.dump(fundtype, open('fundwise.pkl', 'wb'))"
   ]
  },
  {
   "cell_type": "code",
   "execution_count": null,
   "metadata": {
    "collapsed": true
   },
   "outputs": [],
   "source": [
    "for i in range(12):\n",
    "    fundtype[i].to_csv('fundtype'+'/'+funds[i][21:-2]+'.csv')"
   ]
  }
 ],
 "metadata": {
  "kernelspec": {
   "display_name": "Python 3",
   "language": "python",
   "name": "python3"
  },
  "language_info": {
   "codemirror_mode": {
    "name": "ipython",
    "version": 3
   },
   "file_extension": ".py",
   "mimetype": "text/x-python",
   "name": "python",
   "nbconvert_exporter": "python",
   "pygments_lexer": "ipython3",
   "version": "3.5.4"
  }
 },
 "nbformat": 4,
 "nbformat_minor": 2
}
