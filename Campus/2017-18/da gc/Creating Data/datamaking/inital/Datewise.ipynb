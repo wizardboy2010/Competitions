{
 "cells": [
  {
   "cell_type": "code",
   "execution_count": 1,
   "metadata": {
    "collapsed": true
   },
   "outputs": [],
   "source": [
    "import numpy as np\n",
    "import pandas as pd\n",
    "import seaborn as sns\n",
    "import matplotlib.pyplot as plt\n",
    "% matplotlib inline\n",
    "import tqdm as tqdm\n",
    "import os\n",
    "import pickle as pkl"
   ]
  },
  {
   "cell_type": "code",
   "execution_count": 8,
   "metadata": {
    "collapsed": true
   },
   "outputs": [
    {
     "data": {
      "text/plain": [
       "['Aditya Birla Sun Life Mutual Fund.csv',\n",
       " 'HDFC Mutual Fund.csv',\n",
       " 'ICICI Prudential Mutual Fund.csv',\n",
       " 'Reliance Mutual Fund.csv',\n",
       " 'SBI Mutual Fund.csv',\n",
       " 'Sundaram Mutual Fund.csv',\n",
       " 'Tata Mutual Fund.csv',\n",
       " 'UTI Mutual Fund.csv']"
      ]
     },
     "execution_count": 8,
     "metadata": {},
     "output_type": "execute_result"
    }
   ],
   "source": [
    "f = os.listdir('schemesexp')\n",
    "f"
   ]
  },
  {
   "cell_type": "code",
   "execution_count": 9,
   "metadata": {},
   "outputs": [
    {
     "data": {
      "text/plain": [
       "['Aditya Birla Sun Life Mutual Fund',\n",
       " 'HDFC Mutual Fund',\n",
       " 'ICICI Prudential Mutual Fund',\n",
       " 'Reliance Mutual Fund',\n",
       " 'SBI Mutual Fund',\n",
       " 'Sundaram Mutual Fund',\n",
       " 'Tata Mutual Fund',\n",
       " 'UTI Mutual Fund']"
      ]
     },
     "execution_count": 9,
     "metadata": {},
     "output_type": "execute_result"
    }
   ],
   "source": [
    "for i in range(8):\n",
    "    f[i] = f[i][:-4]\n",
    "f"
   ]
  },
  {
   "cell_type": "code",
   "execution_count": 19,
   "metadata": {},
   "outputs": [
    {
     "name": "stderr",
     "output_type": "stream",
     "text": [
      "100%|██████████| 8/8 [00:14<00:00,  1.80s/it]\n"
     ]
    }
   ],
   "source": [
    "data = []\n",
    "for i in tqdm.tqdm(f):\n",
    "    d = pd.read_csv(i+'.txt', delimiter = ';', low_memory=False)\n",
    "    a = pd.isnull(d['Scheme Name'])\n",
    "    temp = []\n",
    "    for j in a:\n",
    "        temp.append(j)\n",
    "    data.append(d.drop(d.index[temp]))"
   ]
  },
  {
   "cell_type": "code",
   "execution_count": 28,
   "metadata": {},
   "outputs": [
    {
     "data": {
      "text/plain": [
       "Index(['Scheme Code', 'Scheme Name', 'Net Asset Value', 'Repurchase Price',\n",
       "       'Sale Price', 'Date'],\n",
       "      dtype='object')"
      ]
     },
     "execution_count": 28,
     "metadata": {},
     "output_type": "execute_result"
    }
   ],
   "source": [
    "col = data[1].columns\n",
    "col"
   ]
  },
  {
   "cell_type": "code",
   "execution_count": 31,
   "metadata": {
    "collapsed": true
   },
   "outputs": [],
   "source": [
    "for i in range(8):\n",
    "    data[i] = data[i].drop(col[:2],1)\n",
    "    data[i] = data[i].drop(col[3:],1)"
   ]
  },
  {
   "cell_type": "code",
   "execution_count": 33,
   "metadata": {},
   "outputs": [],
   "source": [
    "for i in range(8):\n",
    "    data[i]['house'] = f[i]"
   ]
  },
  {
   "cell_type": "code",
   "execution_count": 38,
   "metadata": {},
   "outputs": [],
   "source": [
    "d = pd.concat(data)\n",
    "d.to_csv('nav/nav.csv')"
   ]
  }
 ],
 "metadata": {
  "kernelspec": {
   "display_name": "Python 3",
   "language": "python",
   "name": "python3"
  },
  "language_info": {
   "codemirror_mode": {
    "name": "ipython",
    "version": 3
   },
   "file_extension": ".py",
   "mimetype": "text/x-python",
   "name": "python",
   "nbconvert_exporter": "python",
   "pygments_lexer": "ipython3",
   "version": "3.5.4"
  }
 },
 "nbformat": 4,
 "nbformat_minor": 2
}
