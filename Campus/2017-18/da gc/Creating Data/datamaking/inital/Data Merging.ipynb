{
 "cells": [
  {
   "cell_type": "code",
   "execution_count": 1,
   "metadata": {
    "collapsed": true
   },
   "outputs": [],
   "source": [
    "import numpy as np\n",
    "import pandas as pd\n",
    "import seaborn as sns\n",
    "import matplotlib.pyplot as plt\n",
    "% matplotlib inline\n",
    "import tqdm as tqdm\n",
    "import os\n",
    "import pickle as pkl"
   ]
  },
  {
   "cell_type": "code",
   "execution_count": 2,
   "metadata": {
    "collapsed": true
   },
   "outputs": [],
   "source": [
    "data = pkl.load(open('fundtype/fundwise.pkl', 'rb'))"
   ]
  },
  {
   "cell_type": "markdown",
   "metadata": {},
   "source": [
    "#### Scheme names of each fund type"
   ]
  },
  {
   "cell_type": "code",
   "execution_count": 3,
   "metadata": {
    "collapsed": true
   },
   "outputs": [],
   "source": [
    "names = []\n",
    "for i in range(12):\n",
    "    names.append(data[i]['Scheme Name'].values)"
   ]
  },
  {
   "cell_type": "code",
   "execution_count": 4,
   "metadata": {
    "collapsed": true
   },
   "outputs": [],
   "source": [
    "ids = []\n",
    "c = 0\n",
    "for i in names:\n",
    "    c += len(i)\n",
    "    ids.append(c)"
   ]
  },
  {
   "cell_type": "code",
   "execution_count": 5,
   "metadata": {
    "collapsed": true
   },
   "outputs": [],
   "source": [
    "scheme = []\n",
    "for i in names:\n",
    "    scheme = np.append(scheme, i)"
   ]
  },
  {
   "cell_type": "markdown",
   "metadata": {},
   "source": [
    "#### Making Dataset"
   ]
  },
  {
   "cell_type": "code",
   "execution_count": 122,
   "metadata": {
    "collapsed": true
   },
   "outputs": [],
   "source": [
    "def create(n, given, val, names):\n",
    "    temp = []\n",
    "    for i in names:\n",
    "        t = pd.DataFrame(index = range(len(i)), columns = [n])\n",
    "        for j, p in tqdm.tqdm(enumerate(i)):\n",
    "            for k in range(len(given)):\n",
    "                if p == given[k]:\n",
    "                    t[n][j] = val[k]\n",
    "        temp.append(t)\n",
    "    return temp"
   ]
  },
  {
   "cell_type": "code",
   "execution_count": 118,
   "metadata": {
    "collapsed": true
   },
   "outputs": [],
   "source": [
    "def create(given, val, names):\n",
    "    temp = []\n",
    "    for i, p in tqdm.tqdm(enumerate(names)):\n",
    "        c = 0\n",
    "        for j in range(len(given)):\n",
    "            if given[j] == p:\n",
    "                temp.append(val[j])\n",
    "                c = 1\n",
    "        if c == 0:\n",
    "            temp.append(np.null)\n",
    "    return temp"
   ]
  },
  {
   "cell_type": "code",
   "execution_count": 114,
   "metadata": {},
   "outputs": [
    {
     "data": {
      "text/plain": [
       "'Aditya Birla Sun Life Banking & PSU Debt Fund - Growth - Direct Plan'"
      ]
     },
     "execution_count": 114,
     "metadata": {},
     "output_type": "execute_result"
    }
   ],
   "source": [
    "d = pd.read_csv('givenschemes.csv')\n",
    "d['Scheme.NAV.Name'].values[0]"
   ]
  },
  {
   "cell_type": "code",
   "execution_count": 119,
   "metadata": {},
   "outputs": [
    {
     "name": "stderr",
     "output_type": "stream",
     "text": [
      "2725989it [16:36, 2735.66it/s]\n"
     ]
    },
    {
     "data": {
      "text/plain": [
       "2612562"
      ]
     },
     "execution_count": 119,
     "metadata": {},
     "output_type": "execute_result"
    }
   ],
   "source": [
    "temp = create(d['Scheme.NAV.Name'].values, d['Scheme.Minimum.Amount'].values, scheme)\n",
    "len(temp)\n",
    "# == d['Scheme Name'].values[0]"
   ]
  },
  {
   "cell_type": "code",
   "execution_count": null,
   "metadata": {
    "collapsed": true
   },
   "outputs": [
    {
     "name": "stderr",
     "output_type": "stream",
     "text": [
      "68036it [01:00, 1127.92it/s]\n",
      "54439it [00:45, 1208.89it/s]\n",
      "45821it [00:35, 1303.85it/s]\n",
      "72684it [01:01, 1189.92it/s]\n",
      "16363it [00:10, 1574.72it/s]\n",
      "7339it [00:30, 237.04it/s]\n",
      "137489it [02:46, 826.79it/s]\n",
      "562128it [43:27, 215.58it/s]"
     ]
    }
   ],
   "source": [
    "temp1 = create('Scheme Min Amount', d['Scheme.NAV.Name'].values, d['Scheme.Minimum.Amount'].values, names)\n",
    "len(temp1)\n",
    "# == d['Scheme Name'].values[0]"
   ]
  },
  {
   "cell_type": "code",
   "execution_count": 121,
   "metadata": {
    "collapsed": true
   },
   "outputs": [
    {
     "data": {
      "text/plain": [
       "[68036,\n",
       " 122475,\n",
       " 168296,\n",
       " 240980,\n",
       " 257343,\n",
       " 264682,\n",
       " 402171,\n",
       " 1188753,\n",
       " 2347509,\n",
       " 2671831,\n",
       " 2704502,\n",
       " 2725989]"
      ]
     },
     "execution_count": 121,
     "metadata": {},
     "output_type": "execute_result"
    }
   ],
   "source": [
    "ids"
   ]
  },
  {
   "cell_type": "markdown",
   "metadata": {},
   "source": [
    "#### finalised making"
   ]
  },
  {
   "cell_type": "code",
   "execution_count": 6,
   "metadata": {
    "collapsed": true
   },
   "outputs": [],
   "source": [
    "def sep(temp, ids):\n",
    "    t = []\n",
    "    c = 0\n",
    "    for i in ids:\n",
    "        t.append(temp[c:i])\n",
    "        c = i\n",
    "    return t"
   ]
  },
  {
   "cell_type": "code",
   "execution_count": 7,
   "metadata": {
    "collapsed": true
   },
   "outputs": [],
   "source": [
    "def create(given, val, names, data, ids, n):\n",
    "    temp = []\n",
    "    for i, p in tqdm.tqdm(enumerate(names)):\n",
    "        c = 0\n",
    "        for j in range(len(given)):\n",
    "            if given[j] == p:\n",
    "                temp.append(val[j])\n",
    "                c = 1\n",
    "        if c == 0:\n",
    "            temp.append(np.nan)\n",
    "    f = sep(temp, ids)\n",
    "    for i in range(12):\n",
    "        data[i][n] = f[i]\n",
    "    return data"
   ]
  },
  {
   "cell_type": "code",
   "execution_count": 8,
   "metadata": {
    "collapsed": true
   },
   "outputs": [],
   "source": [
    "pkl.dump(sep, open('seperatingfunction.pkl', 'wb'))\n",
    "pkl.dump(create, open('joiningfunction.pkl', 'wb'))"
   ]
  }
 ],
 "metadata": {
  "kernelspec": {
   "display_name": "Python 3",
   "language": "python",
   "name": "python3"
  },
  "language_info": {
   "codemirror_mode": {
    "name": "ipython",
    "version": 3
   },
   "file_extension": ".py",
   "mimetype": "text/x-python",
   "name": "python",
   "nbconvert_exporter": "python",
   "pygments_lexer": "ipython3",
   "version": "3.5.4"
  }
 },
 "nbformat": 4,
 "nbformat_minor": 2
}
