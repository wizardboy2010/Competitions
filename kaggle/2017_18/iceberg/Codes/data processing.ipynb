{
 "cells": [
  {
   "cell_type": "code",
   "execution_count": 2,
   "metadata": {},
   "outputs": [],
   "source": [
    "import pandas as pd\n",
    "import numpy as np\n",
    "import matplotlib.pyplot as plt\n",
    "import seaborn as sns\n",
    "% matplotlib inline"
   ]
  },
  {
   "cell_type": "code",
   "execution_count": 105,
   "metadata": {},
   "outputs": [],
   "source": [
    "from scipy.stats import skew, kurtosis\n",
    "from scipy.signal import hilbert"
   ]
  },
  {
   "cell_type": "code",
   "execution_count": 411,
   "metadata": {
    "collapsed": true
   },
   "outputs": [],
   "source": [
    "from sklearn.decomposition import PCA\n",
    "import tqdm"
   ]
  },
  {
   "cell_type": "code",
   "execution_count": 4,
   "metadata": {
    "collapsed": true
   },
   "outputs": [],
   "source": [
    "train_df = pd.read_json('train.json')"
   ]
  },
  {
   "cell_type": "code",
   "execution_count": 396,
   "metadata": {
    "collapsed": true
   },
   "outputs": [
    {
     "data": {
      "text/html": [
       "<div>\n",
       "<style>\n",
       "    .dataframe thead tr:only-child th {\n",
       "        text-align: right;\n",
       "    }\n",
       "\n",
       "    .dataframe thead th {\n",
       "        text-align: left;\n",
       "    }\n",
       "\n",
       "    .dataframe tbody tr th {\n",
       "        vertical-align: top;\n",
       "    }\n",
       "</style>\n",
       "<table border=\"1\" class=\"dataframe\">\n",
       "  <thead>\n",
       "    <tr style=\"text-align: right;\">\n",
       "      <th></th>\n",
       "      <th>0</th>\n",
       "      <th>1</th>\n",
       "      <th>2</th>\n",
       "      <th>3</th>\n",
       "      <th>4</th>\n",
       "    </tr>\n",
       "  </thead>\n",
       "  <tbody>\n",
       "    <tr>\n",
       "      <th>0</th>\n",
       "      <td>[[-27.878361, -27.15416, -28.668615, -29.53797...</td>\n",
       "      <td>[[-27.154118, -29.537888, -31.0306, -32.190483...</td>\n",
       "      <td>dfd5f913</td>\n",
       "      <td>43.9239</td>\n",
       "      <td>0</td>\n",
       "    </tr>\n",
       "    <tr>\n",
       "      <th>1</th>\n",
       "      <td>[[-12.242375, -14.920305, -14.920363, -12.6663...</td>\n",
       "      <td>[[-31.506321, -27.984554, -26.645678, -23.7676...</td>\n",
       "      <td>e25388fd</td>\n",
       "      <td>38.1562</td>\n",
       "      <td>0</td>\n",
       "    </tr>\n",
       "    <tr>\n",
       "      <th>2</th>\n",
       "      <td>[[-24.603676, -24.603714, -24.871029, -23.1527...</td>\n",
       "      <td>[[-24.870956, -24.092632, -20.653963, -19.4110...</td>\n",
       "      <td>58b2aaa0</td>\n",
       "      <td>45.2859</td>\n",
       "      <td>1</td>\n",
       "    </tr>\n",
       "    <tr>\n",
       "      <th>3</th>\n",
       "      <td>[[-22.454607, -23.082819, -23.998013, -23.9980...</td>\n",
       "      <td>[[-27.889421, -27.519794, -27.165262, -29.1035...</td>\n",
       "      <td>4cfc3a18</td>\n",
       "      <td>43.8306</td>\n",
       "      <td>0</td>\n",
       "    </tr>\n",
       "    <tr>\n",
       "      <th>4</th>\n",
       "      <td>[[-26.006956, -23.164886, -23.164886, -26.8911...</td>\n",
       "      <td>[[-27.206915, -30.259186, -30.259186, -23.1649...</td>\n",
       "      <td>271f93f4</td>\n",
       "      <td>35.6256</td>\n",
       "      <td>0</td>\n",
       "    </tr>\n",
       "    <tr>\n",
       "      <th>5</th>\n",
       "      <td>[[-20.769371, -20.769434, -25.906025, -25.9060...</td>\n",
       "      <td>[[-29.288746, -29.712593, -28.884804, -28.8848...</td>\n",
       "      <td>b51d18b5</td>\n",
       "      <td>36.9034</td>\n",
       "      <td>1</td>\n",
       "    </tr>\n",
       "    <tr>\n",
       "      <th>6</th>\n",
       "      <td>[[-26.673811, -23.666162, -27.622442, -28.3176...</td>\n",
       "      <td>[[-24.557735, -26.97868, -27.622442, -29.07345...</td>\n",
       "      <td>31da1a04</td>\n",
       "      <td>34.4751</td>\n",
       "      <td>1</td>\n",
       "    </tr>\n",
       "    <tr>\n",
       "      <th>7</th>\n",
       "      <td>[[-24.989119, -27.755224, -25.817074, -24.9892...</td>\n",
       "      <td>[[-27.755173, -26.732174, -28.124943, -31.8377...</td>\n",
       "      <td>56929c16</td>\n",
       "      <td>41.1769</td>\n",
       "      <td>0</td>\n",
       "    </tr>\n",
       "    <tr>\n",
       "      <th>8</th>\n",
       "      <td>[[-17.146641, -17.146572, -17.994583, -19.4455...</td>\n",
       "      <td>[[-25.733608, -24.472507, -24.710424, -22.7721...</td>\n",
       "      <td>525ab75c</td>\n",
       "      <td>35.7829</td>\n",
       "      <td>0</td>\n",
       "    </tr>\n",
       "    <tr>\n",
       "      <th>9</th>\n",
       "      <td>[[-24.020853, -23.551275, -27.18819, -29.12643...</td>\n",
       "      <td>[[-28.702518, -33.563324, -29.571918, -29.1264...</td>\n",
       "      <td>192f56eb</td>\n",
       "      <td>43.3007</td>\n",
       "      <td>0</td>\n",
       "    </tr>\n",
       "    <tr>\n",
       "      <th>10</th>\n",
       "      <td>[[-21.397552, -19.753859, -23.426783, -24.6522...</td>\n",
       "      <td>[[-26.72291, -27.418192, -27.787899, -25.77453...</td>\n",
       "      <td>3aac67cd</td>\n",
       "      <td>44.624</td>\n",
       "      <td>1</td>\n",
       "    </tr>\n",
       "    <tr>\n",
       "      <th>11</th>\n",
       "      <td>[[-22.020813, -22.020864, -20.345379, -18.0782...</td>\n",
       "      <td>[[-29.018383, -26.519661, -26.214916, -27.1634...</td>\n",
       "      <td>161a6860</td>\n",
       "      <td>39.5067</td>\n",
       "      <td>0</td>\n",
       "    </tr>\n",
       "    <tr>\n",
       "      <th>12</th>\n",
       "      <td>[[-21.112206, -21.638832, -25.436468, -23.2225...</td>\n",
       "      <td>[[-27.30481, -28.415203, -24.634125, -26.01578...</td>\n",
       "      <td>3c794f0c</td>\n",
       "      <td>41.8544</td>\n",
       "      <td>1</td>\n",
       "    </tr>\n",
       "    <tr>\n",
       "      <th>13</th>\n",
       "      <td>[[-23.864258, -27.755791, -26.047226, -24.6201...</td>\n",
       "      <td>[[-23.626272, -24.620068, -28.546, -26.363146,...</td>\n",
       "      <td>86730f0d</td>\n",
       "      <td>45.2909</td>\n",
       "      <td>1</td>\n",
       "    </tr>\n",
       "    <tr>\n",
       "      <th>14</th>\n",
       "      <td>[[-20.558899, -21.328135, -19.585205, -19.7178...</td>\n",
       "      <td>[[-29.127485, -30.40094, -28.741528, -24.38048...</td>\n",
       "      <td>e356f7a3</td>\n",
       "      <td>34.7715</td>\n",
       "      <td>0</td>\n",
       "    </tr>\n",
       "    <tr>\n",
       "      <th>15</th>\n",
       "      <td>[[-28.282215, -27.896156, -25.882795, -25.8827...</td>\n",
       "      <td>[[-31.608845, -29.110111, -32.851887, -32.8518...</td>\n",
       "      <td>87592c38</td>\n",
       "      <td>43.782</td>\n",
       "      <td>0</td>\n",
       "    </tr>\n",
       "    <tr>\n",
       "      <th>16</th>\n",
       "      <td>[[-21.345695, -21.345734, -21.166676, -20.6505...</td>\n",
       "      <td>[[-26.343246, -25.143326, -23.374924, -22.9294...</td>\n",
       "      <td>1c18a39e</td>\n",
       "      <td>45.3568</td>\n",
       "      <td>0</td>\n",
       "    </tr>\n",
       "    <tr>\n",
       "      <th>17</th>\n",
       "      <td>[[-19.261189, -19.812914, -23.263891, -25.4166...</td>\n",
       "      <td>[[-25.149176, -26.271551, -27.560766, -27.9153...</td>\n",
       "      <td>a210f335</td>\n",
       "      <td>38.7812</td>\n",
       "      <td>0</td>\n",
       "    </tr>\n",
       "    <tr>\n",
       "      <th>18</th>\n",
       "      <td>[[-25.950783, -26.571512, -22.943153, -21.9437...</td>\n",
       "      <td>[[-29.623671, -30.093336, -27.594606, -29.1782...</td>\n",
       "      <td>958d155f</td>\n",
       "      <td>42.5145</td>\n",
       "      <td>0</td>\n",
       "    </tr>\n",
       "    <tr>\n",
       "      <th>19</th>\n",
       "      <td>[[-21.557806, -22.084446, -19.187838, -16.9190...</td>\n",
       "      <td>[[-22.084385, -24.583221, -30.13426, -26.46143...</td>\n",
       "      <td>6d81d201</td>\n",
       "      <td>37.2802</td>\n",
       "      <td>1</td>\n",
       "    </tr>\n",
       "    <tr>\n",
       "      <th>20</th>\n",
       "      <td>[[-27.674824, -26.335936, -26.979677, -31.1967...</td>\n",
       "      <td>[[-28.044491, -27.67487, -29.704073, -31.19679...</td>\n",
       "      <td>75126706</td>\n",
       "      <td>41.7973</td>\n",
       "      <td>0</td>\n",
       "    </tr>\n",
       "    <tr>\n",
       "      <th>21</th>\n",
       "      <td>[[-26.345797, -26.05139, -26.650715, -26.65071...</td>\n",
       "      <td>[[-30.488308, -26.05139, -22.924503, -22.92450...</td>\n",
       "      <td>112a6cfa</td>\n",
       "      <td>38.0669</td>\n",
       "      <td>1</td>\n",
       "    </tr>\n",
       "    <tr>\n",
       "      <th>22</th>\n",
       "      <td>[[-15.745731, -14.04358, -14.653421, -16.11167...</td>\n",
       "      <td>[[-26.538006, -27.522421, -29.906204, -27.5225...</td>\n",
       "      <td>a29662a4</td>\n",
       "      <td>39.6636</td>\n",
       "      <td>0</td>\n",
       "    </tr>\n",
       "    <tr>\n",
       "      <th>23</th>\n",
       "      <td>[[-14.6148, -14.6148, -16.136662, -15.342532, ...</td>\n",
       "      <td>[[-26.656, -26.656, -22.534969, -25.496277, -2...</td>\n",
       "      <td>bd1a1bdf</td>\n",
       "      <td>37.6866</td>\n",
       "      <td>1</td>\n",
       "    </tr>\n",
       "    <tr>\n",
       "      <th>24</th>\n",
       "      <td>[[-16.015327, -16.015327, -14.87892, -16.89950...</td>\n",
       "      <td>[[-23.789312, -23.789312, -24.021, -23.789415,...</td>\n",
       "      <td>31e37d93</td>\n",
       "      <td>40.296</td>\n",
       "      <td>0</td>\n",
       "    </tr>\n",
       "    <tr>\n",
       "      <th>25</th>\n",
       "      <td>[[-19.261448, -19.671938, -20.712574, -20.1028...</td>\n",
       "      <td>[[-27.220249, -28.671318, -30.910847, -25.6926...</td>\n",
       "      <td>76b8d446</td>\n",
       "      <td>39.234</td>\n",
       "      <td>1</td>\n",
       "    </tr>\n",
       "    <tr>\n",
       "      <th>26</th>\n",
       "      <td>[[-10.99748, -11.994458, -11.209444, -11.20944...</td>\n",
       "      <td>[[-12.792967, -18.622711, -13.816119, -13.8161...</td>\n",
       "      <td>958d42a8</td>\n",
       "      <td>40.3904</td>\n",
       "      <td>1</td>\n",
       "    </tr>\n",
       "    <tr>\n",
       "      <th>27</th>\n",
       "      <td>[[-31.042643, -31.60326, -32.202568, -30.51619...</td>\n",
       "      <td>[[-34.297188, -32.846218, -30.019676, -29.1045...</td>\n",
       "      <td>70830858</td>\n",
       "      <td>43.7895</td>\n",
       "      <td>0</td>\n",
       "    </tr>\n",
       "    <tr>\n",
       "      <th>28</th>\n",
       "      <td>[[-27.995171, -23.865738, -22.165567, -22.7648...</td>\n",
       "      <td>[[-28.785341, -30.620794, -27.625595, -25.4026...</td>\n",
       "      <td>faf2c49e</td>\n",
       "      <td>42.5891</td>\n",
       "      <td>1</td>\n",
       "    </tr>\n",
       "    <tr>\n",
       "      <th>29</th>\n",
       "      <td>[[-26.390104, -28.888929, -28.888929, -27.7291...</td>\n",
       "      <td>[[-25.230265, -26.706038, -26.706038, -24.4520...</td>\n",
       "      <td>02314c59</td>\n",
       "      <td>41.0303</td>\n",
       "      <td>0</td>\n",
       "    </tr>\n",
       "    <tr>\n",
       "      <th>...</th>\n",
       "      <td>...</td>\n",
       "      <td>...</td>\n",
       "      <td>...</td>\n",
       "      <td>...</td>\n",
       "      <td>...</td>\n",
       "    </tr>\n",
       "    <tr>\n",
       "      <th>1574</th>\n",
       "      <td>[[-21.309566, -20.840015, -22.515629, -21.1504...</td>\n",
       "      <td>[[-26.709482, -26.709555, -27.998783, -29.5132...</td>\n",
       "      <td>84fe7f94</td>\n",
       "      <td>na</td>\n",
       "      <td>0</td>\n",
       "    </tr>\n",
       "    <tr>\n",
       "      <th>1575</th>\n",
       "      <td>[[-20.215452, -19.626303, -18.941971, -19.0745...</td>\n",
       "      <td>[[-22.867964, -23.2917, -23.737179, -23.511507...</td>\n",
       "      <td>04e6f331</td>\n",
       "      <td>na</td>\n",
       "      <td>0</td>\n",
       "    </tr>\n",
       "    <tr>\n",
       "      <th>1576</th>\n",
       "      <td>[[-23.334843, -25.328943, -26.213058, -25.9083...</td>\n",
       "      <td>[[-31.073734, -29.581106, -33.572594, -32.8773...</td>\n",
       "      <td>92c90853</td>\n",
       "      <td>na</td>\n",
       "      <td>0</td>\n",
       "    </tr>\n",
       "    <tr>\n",
       "      <th>1577</th>\n",
       "      <td>[[-25.666952, -25.942781, -24.64403, -24.17447...</td>\n",
       "      <td>[[-25.666952, -25.667017, -25.942844, -27.8113...</td>\n",
       "      <td>660a98a7</td>\n",
       "      <td>na</td>\n",
       "      <td>0</td>\n",
       "    </tr>\n",
       "    <tr>\n",
       "      <th>1578</th>\n",
       "      <td>[[-19.281799, -17.870247, -18.202303, -18.7855...</td>\n",
       "      <td>[[-23.890778, -26.988886, -30.357046, -27.6327...</td>\n",
       "      <td>89670962</td>\n",
       "      <td>na</td>\n",
       "      <td>0</td>\n",
       "    </tr>\n",
       "    <tr>\n",
       "      <th>1579</th>\n",
       "      <td>[[-18.215658, -17.459957, -17.564053, -19.6874...</td>\n",
       "      <td>[[-25.064114, -26.697582, -27.986814, -27.6462...</td>\n",
       "      <td>9d586019</td>\n",
       "      <td>na</td>\n",
       "      <td>0</td>\n",
       "    </tr>\n",
       "    <tr>\n",
       "      <th>1580</th>\n",
       "      <td>[[-17.248318, -16.214254, -15.532733, -15.9524...</td>\n",
       "      <td>[[-21.718636, -24.217484, -24.443178, -25.1575...</td>\n",
       "      <td>5f49ea3b</td>\n",
       "      <td>na</td>\n",
       "      <td>0</td>\n",
       "    </tr>\n",
       "    <tr>\n",
       "      <th>1581</th>\n",
       "      <td>[[-24.588913, -24.588951, -24.85627, -23.36363...</td>\n",
       "      <td>[[-29.853745, -28.110779, -23.363598, -23.8332...</td>\n",
       "      <td>968e1414</td>\n",
       "      <td>na</td>\n",
       "      <td>0</td>\n",
       "    </tr>\n",
       "    <tr>\n",
       "      <th>1582</th>\n",
       "      <td>[[-24.811455, -25.078775, -24.055771, -20.6963...</td>\n",
       "      <td>[[-29.161131, -27.222977, -28.737434, -30.0764...</td>\n",
       "      <td>389d7eaf</td>\n",
       "      <td>na</td>\n",
       "      <td>0</td>\n",
       "    </tr>\n",
       "    <tr>\n",
       "      <th>1583</th>\n",
       "      <td>[[-19.654991, -24.04619, -21.321854, -18.99180...</td>\n",
       "      <td>[[-26.099377, -25.814627, -29.197536, -32.1201...</td>\n",
       "      <td>65ca9e76</td>\n",
       "      <td>na</td>\n",
       "      <td>0</td>\n",
       "    </tr>\n",
       "    <tr>\n",
       "      <th>1584</th>\n",
       "      <td>[[-19.815434, -20.994926, -19.954279, -17.5257...</td>\n",
       "      <td>[[-23.761044, -23.760979, -22.737862, -24.9206...</td>\n",
       "      <td>a09cae27</td>\n",
       "      <td>na</td>\n",
       "      <td>0</td>\n",
       "    </tr>\n",
       "    <tr>\n",
       "      <th>1585</th>\n",
       "      <td>[[-18.443468, -17.668488, -21.296959, -21.7935...</td>\n",
       "      <td>[[-24.349022, -24.12347, -23.689157, -27.64543...</td>\n",
       "      <td>00c5b3e0</td>\n",
       "      <td>na</td>\n",
       "      <td>0</td>\n",
       "    </tr>\n",
       "    <tr>\n",
       "      <th>1586</th>\n",
       "      <td>[[-21.710968, -21.162241, -24.336622, -22.9250...</td>\n",
       "      <td>[[-21.710968, -23.840113, -26.023041, -23.6022...</td>\n",
       "      <td>7f9df2b0</td>\n",
       "      <td>na</td>\n",
       "      <td>0</td>\n",
       "    </tr>\n",
       "    <tr>\n",
       "      <th>1587</th>\n",
       "      <td>[[-20.982038, -17.765095, -17.460377, -17.3611...</td>\n",
       "      <td>[[-28.291798, -27.30752, -22.995605, -25.12479...</td>\n",
       "      <td>a2303efc</td>\n",
       "      <td>na</td>\n",
       "      <td>0</td>\n",
       "    </tr>\n",
       "    <tr>\n",
       "      <th>1588</th>\n",
       "      <td>[[-13.383982, -12.767777, -14.186477, -17.8852...</td>\n",
       "      <td>[[-24.233467, -24.233543, -23.185856, -23.3856...</td>\n",
       "      <td>cb62e5cb</td>\n",
       "      <td>na</td>\n",
       "      <td>0</td>\n",
       "    </tr>\n",
       "    <tr>\n",
       "      <th>1589</th>\n",
       "      <td>[[-22.688837, -21.349943, -22.898233, -22.8982...</td>\n",
       "      <td>[[-30.048372, -31.63204, -34.326054, -32.23139...</td>\n",
       "      <td>9ff1e0f0</td>\n",
       "      <td>na</td>\n",
       "      <td>0</td>\n",
       "    </tr>\n",
       "    <tr>\n",
       "      <th>1590</th>\n",
       "      <td>[[-22.613323, -20.475389, -19.295786, -19.1589...</td>\n",
       "      <td>[[-24.401331, -23.91861, -23.461304, -26.98308...</td>\n",
       "      <td>39fd995a</td>\n",
       "      <td>na</td>\n",
       "      <td>0</td>\n",
       "    </tr>\n",
       "    <tr>\n",
       "      <th>1591</th>\n",
       "      <td>[[-16.95768, -21.794147, -24.581587, -24.81964...</td>\n",
       "      <td>[[-23.27611, -29.501163, -35.945621, -29.50130...</td>\n",
       "      <td>544d0681</td>\n",
       "      <td>na</td>\n",
       "      <td>0</td>\n",
       "    </tr>\n",
       "    <tr>\n",
       "      <th>1592</th>\n",
       "      <td>[[-5.64585, -7.455446, -8.050229, -8.050307, -...</td>\n",
       "      <td>[[-14.208546, -13.801398, -14.709263, -15.8063...</td>\n",
       "      <td>cb0319fc</td>\n",
       "      <td>na</td>\n",
       "      <td>0</td>\n",
       "    </tr>\n",
       "    <tr>\n",
       "      <th>1593</th>\n",
       "      <td>[[-28.554342, -26.37149, -25.17157, -25.171608...</td>\n",
       "      <td>[[-26.055567, -27.394543, -28.55442, -30.38986...</td>\n",
       "      <td>d86deb2b</td>\n",
       "      <td>na</td>\n",
       "      <td>0</td>\n",
       "    </tr>\n",
       "    <tr>\n",
       "      <th>1594</th>\n",
       "      <td>[[-25.950792, -26.255636, -23.834808, -25.0958...</td>\n",
       "      <td>[[-30.093304, -28.75441, -27.240044, -29.17828...</td>\n",
       "      <td>cdee905a</td>\n",
       "      <td>na</td>\n",
       "      <td>0</td>\n",
       "    </tr>\n",
       "    <tr>\n",
       "      <th>1595</th>\n",
       "      <td>[[-25.31617, -25.895485, -24.773212, -23.77949...</td>\n",
       "      <td>[[-26.516129, -29.122847, -29.568417, -30.5345...</td>\n",
       "      <td>2539742b</td>\n",
       "      <td>na</td>\n",
       "      <td>0</td>\n",
       "    </tr>\n",
       "    <tr>\n",
       "      <th>1596</th>\n",
       "      <td>[[-14.463013, -15.378237, -14.535848, -14.8329...</td>\n",
       "      <td>[[-25.165276, -24.682676, -25.41721, -30.02626...</td>\n",
       "      <td>2ea3c9f1</td>\n",
       "      <td>na</td>\n",
       "      <td>0</td>\n",
       "    </tr>\n",
       "    <tr>\n",
       "      <th>1597</th>\n",
       "      <td>[[-19.997332, -18.115284, -15.673027, -14.2613...</td>\n",
       "      <td>[[-20.727669, -23.175728, -20.576469, -20.2819...</td>\n",
       "      <td>9cadda28</td>\n",
       "      <td>na</td>\n",
       "      <td>0</td>\n",
       "    </tr>\n",
       "    <tr>\n",
       "      <th>1598</th>\n",
       "      <td>[[-14.200315, -15.292111, -15.60808, -18.32409...</td>\n",
       "      <td>[[-24.02071, -24.455181, -24.020878, -23.60726...</td>\n",
       "      <td>8376a077</td>\n",
       "      <td>na</td>\n",
       "      <td>0</td>\n",
       "    </tr>\n",
       "    <tr>\n",
       "      <th>1599</th>\n",
       "      <td>[[-30.999878, -29.976866, -28.233906, -29.5073...</td>\n",
       "      <td>[[-27.847719, -28.233864, -24.712078, -24.4528...</td>\n",
       "      <td>04e11240</td>\n",
       "      <td>na</td>\n",
       "      <td>0</td>\n",
       "    </tr>\n",
       "    <tr>\n",
       "      <th>1600</th>\n",
       "      <td>[[-25.31155, -26.511555, -28.694487, -27.18011...</td>\n",
       "      <td>[[-29.563713, -28.290375, -26.839405, -28.2904...</td>\n",
       "      <td>c7d6f6f8</td>\n",
       "      <td>na</td>\n",
       "      <td>0</td>\n",
       "    </tr>\n",
       "    <tr>\n",
       "      <th>1601</th>\n",
       "      <td>[[-18.141895, -18.141844, -19.01737, -19.70159...</td>\n",
       "      <td>[[-25.305355, -29.387701, -28.963863, -26.1602...</td>\n",
       "      <td>bba1a0f1</td>\n",
       "      <td>na</td>\n",
       "      <td>0</td>\n",
       "    </tr>\n",
       "    <tr>\n",
       "      <th>1602</th>\n",
       "      <td>[[-22.455633, -25.794661, -26.954567, -22.8335...</td>\n",
       "      <td>[[-26.070356, -22.093737, -21.577662, -24.5337...</td>\n",
       "      <td>7f66bb44</td>\n",
       "      <td>na</td>\n",
       "      <td>0</td>\n",
       "    </tr>\n",
       "    <tr>\n",
       "      <th>1603</th>\n",
       "      <td>[[-19.909191, -20.678406, -20.208834, -18.4244...</td>\n",
       "      <td>[[-24.44487, -24.956001, -27.722103, -26.07841...</td>\n",
       "      <td>9d8f326c</td>\n",
       "      <td>na</td>\n",
       "      <td>0</td>\n",
       "    </tr>\n",
       "  </tbody>\n",
       "</table>\n",
       "<p>1604 rows × 5 columns</p>\n",
       "</div>"
      ],
      "text/plain": [
       "                                                      0  \\\n",
       "0     [[-27.878361, -27.15416, -28.668615, -29.53797...   \n",
       "1     [[-12.242375, -14.920305, -14.920363, -12.6663...   \n",
       "2     [[-24.603676, -24.603714, -24.871029, -23.1527...   \n",
       "3     [[-22.454607, -23.082819, -23.998013, -23.9980...   \n",
       "4     [[-26.006956, -23.164886, -23.164886, -26.8911...   \n",
       "5     [[-20.769371, -20.769434, -25.906025, -25.9060...   \n",
       "6     [[-26.673811, -23.666162, -27.622442, -28.3176...   \n",
       "7     [[-24.989119, -27.755224, -25.817074, -24.9892...   \n",
       "8     [[-17.146641, -17.146572, -17.994583, -19.4455...   \n",
       "9     [[-24.020853, -23.551275, -27.18819, -29.12643...   \n",
       "10    [[-21.397552, -19.753859, -23.426783, -24.6522...   \n",
       "11    [[-22.020813, -22.020864, -20.345379, -18.0782...   \n",
       "12    [[-21.112206, -21.638832, -25.436468, -23.2225...   \n",
       "13    [[-23.864258, -27.755791, -26.047226, -24.6201...   \n",
       "14    [[-20.558899, -21.328135, -19.585205, -19.7178...   \n",
       "15    [[-28.282215, -27.896156, -25.882795, -25.8827...   \n",
       "16    [[-21.345695, -21.345734, -21.166676, -20.6505...   \n",
       "17    [[-19.261189, -19.812914, -23.263891, -25.4166...   \n",
       "18    [[-25.950783, -26.571512, -22.943153, -21.9437...   \n",
       "19    [[-21.557806, -22.084446, -19.187838, -16.9190...   \n",
       "20    [[-27.674824, -26.335936, -26.979677, -31.1967...   \n",
       "21    [[-26.345797, -26.05139, -26.650715, -26.65071...   \n",
       "22    [[-15.745731, -14.04358, -14.653421, -16.11167...   \n",
       "23    [[-14.6148, -14.6148, -16.136662, -15.342532, ...   \n",
       "24    [[-16.015327, -16.015327, -14.87892, -16.89950...   \n",
       "25    [[-19.261448, -19.671938, -20.712574, -20.1028...   \n",
       "26    [[-10.99748, -11.994458, -11.209444, -11.20944...   \n",
       "27    [[-31.042643, -31.60326, -32.202568, -30.51619...   \n",
       "28    [[-27.995171, -23.865738, -22.165567, -22.7648...   \n",
       "29    [[-26.390104, -28.888929, -28.888929, -27.7291...   \n",
       "...                                                 ...   \n",
       "1574  [[-21.309566, -20.840015, -22.515629, -21.1504...   \n",
       "1575  [[-20.215452, -19.626303, -18.941971, -19.0745...   \n",
       "1576  [[-23.334843, -25.328943, -26.213058, -25.9083...   \n",
       "1577  [[-25.666952, -25.942781, -24.64403, -24.17447...   \n",
       "1578  [[-19.281799, -17.870247, -18.202303, -18.7855...   \n",
       "1579  [[-18.215658, -17.459957, -17.564053, -19.6874...   \n",
       "1580  [[-17.248318, -16.214254, -15.532733, -15.9524...   \n",
       "1581  [[-24.588913, -24.588951, -24.85627, -23.36363...   \n",
       "1582  [[-24.811455, -25.078775, -24.055771, -20.6963...   \n",
       "1583  [[-19.654991, -24.04619, -21.321854, -18.99180...   \n",
       "1584  [[-19.815434, -20.994926, -19.954279, -17.5257...   \n",
       "1585  [[-18.443468, -17.668488, -21.296959, -21.7935...   \n",
       "1586  [[-21.710968, -21.162241, -24.336622, -22.9250...   \n",
       "1587  [[-20.982038, -17.765095, -17.460377, -17.3611...   \n",
       "1588  [[-13.383982, -12.767777, -14.186477, -17.8852...   \n",
       "1589  [[-22.688837, -21.349943, -22.898233, -22.8982...   \n",
       "1590  [[-22.613323, -20.475389, -19.295786, -19.1589...   \n",
       "1591  [[-16.95768, -21.794147, -24.581587, -24.81964...   \n",
       "1592  [[-5.64585, -7.455446, -8.050229, -8.050307, -...   \n",
       "1593  [[-28.554342, -26.37149, -25.17157, -25.171608...   \n",
       "1594  [[-25.950792, -26.255636, -23.834808, -25.0958...   \n",
       "1595  [[-25.31617, -25.895485, -24.773212, -23.77949...   \n",
       "1596  [[-14.463013, -15.378237, -14.535848, -14.8329...   \n",
       "1597  [[-19.997332, -18.115284, -15.673027, -14.2613...   \n",
       "1598  [[-14.200315, -15.292111, -15.60808, -18.32409...   \n",
       "1599  [[-30.999878, -29.976866, -28.233906, -29.5073...   \n",
       "1600  [[-25.31155, -26.511555, -28.694487, -27.18011...   \n",
       "1601  [[-18.141895, -18.141844, -19.01737, -19.70159...   \n",
       "1602  [[-22.455633, -25.794661, -26.954567, -22.8335...   \n",
       "1603  [[-19.909191, -20.678406, -20.208834, -18.4244...   \n",
       "\n",
       "                                                      1         2        3  4  \n",
       "0     [[-27.154118, -29.537888, -31.0306, -32.190483...  dfd5f913  43.9239  0  \n",
       "1     [[-31.506321, -27.984554, -26.645678, -23.7676...  e25388fd  38.1562  0  \n",
       "2     [[-24.870956, -24.092632, -20.653963, -19.4110...  58b2aaa0  45.2859  1  \n",
       "3     [[-27.889421, -27.519794, -27.165262, -29.1035...  4cfc3a18  43.8306  0  \n",
       "4     [[-27.206915, -30.259186, -30.259186, -23.1649...  271f93f4  35.6256  0  \n",
       "5     [[-29.288746, -29.712593, -28.884804, -28.8848...  b51d18b5  36.9034  1  \n",
       "6     [[-24.557735, -26.97868, -27.622442, -29.07345...  31da1a04  34.4751  1  \n",
       "7     [[-27.755173, -26.732174, -28.124943, -31.8377...  56929c16  41.1769  0  \n",
       "8     [[-25.733608, -24.472507, -24.710424, -22.7721...  525ab75c  35.7829  0  \n",
       "9     [[-28.702518, -33.563324, -29.571918, -29.1264...  192f56eb  43.3007  0  \n",
       "10    [[-26.72291, -27.418192, -27.787899, -25.77453...  3aac67cd   44.624  1  \n",
       "11    [[-29.018383, -26.519661, -26.214916, -27.1634...  161a6860  39.5067  0  \n",
       "12    [[-27.30481, -28.415203, -24.634125, -26.01578...  3c794f0c  41.8544  1  \n",
       "13    [[-23.626272, -24.620068, -28.546, -26.363146,...  86730f0d  45.2909  1  \n",
       "14    [[-29.127485, -30.40094, -28.741528, -24.38048...  e356f7a3  34.7715  0  \n",
       "15    [[-31.608845, -29.110111, -32.851887, -32.8518...  87592c38   43.782  0  \n",
       "16    [[-26.343246, -25.143326, -23.374924, -22.9294...  1c18a39e  45.3568  0  \n",
       "17    [[-25.149176, -26.271551, -27.560766, -27.9153...  a210f335  38.7812  0  \n",
       "18    [[-29.623671, -30.093336, -27.594606, -29.1782...  958d155f  42.5145  0  \n",
       "19    [[-22.084385, -24.583221, -30.13426, -26.46143...  6d81d201  37.2802  1  \n",
       "20    [[-28.044491, -27.67487, -29.704073, -31.19679...  75126706  41.7973  0  \n",
       "21    [[-30.488308, -26.05139, -22.924503, -22.92450...  112a6cfa  38.0669  1  \n",
       "22    [[-26.538006, -27.522421, -29.906204, -27.5225...  a29662a4  39.6636  0  \n",
       "23    [[-26.656, -26.656, -22.534969, -25.496277, -2...  bd1a1bdf  37.6866  1  \n",
       "24    [[-23.789312, -23.789312, -24.021, -23.789415,...  31e37d93   40.296  0  \n",
       "25    [[-27.220249, -28.671318, -30.910847, -25.6926...  76b8d446   39.234  1  \n",
       "26    [[-12.792967, -18.622711, -13.816119, -13.8161...  958d42a8  40.3904  1  \n",
       "27    [[-34.297188, -32.846218, -30.019676, -29.1045...  70830858  43.7895  0  \n",
       "28    [[-28.785341, -30.620794, -27.625595, -25.4026...  faf2c49e  42.5891  1  \n",
       "29    [[-25.230265, -26.706038, -26.706038, -24.4520...  02314c59  41.0303  0  \n",
       "...                                                 ...       ...      ... ..  \n",
       "1574  [[-26.709482, -26.709555, -27.998783, -29.5132...  84fe7f94       na  0  \n",
       "1575  [[-22.867964, -23.2917, -23.737179, -23.511507...  04e6f331       na  0  \n",
       "1576  [[-31.073734, -29.581106, -33.572594, -32.8773...  92c90853       na  0  \n",
       "1577  [[-25.666952, -25.667017, -25.942844, -27.8113...  660a98a7       na  0  \n",
       "1578  [[-23.890778, -26.988886, -30.357046, -27.6327...  89670962       na  0  \n",
       "1579  [[-25.064114, -26.697582, -27.986814, -27.6462...  9d586019       na  0  \n",
       "1580  [[-21.718636, -24.217484, -24.443178, -25.1575...  5f49ea3b       na  0  \n",
       "1581  [[-29.853745, -28.110779, -23.363598, -23.8332...  968e1414       na  0  \n",
       "1582  [[-29.161131, -27.222977, -28.737434, -30.0764...  389d7eaf       na  0  \n",
       "1583  [[-26.099377, -25.814627, -29.197536, -32.1201...  65ca9e76       na  0  \n",
       "1584  [[-23.761044, -23.760979, -22.737862, -24.9206...  a09cae27       na  0  \n",
       "1585  [[-24.349022, -24.12347, -23.689157, -27.64543...  00c5b3e0       na  0  \n",
       "1586  [[-21.710968, -23.840113, -26.023041, -23.6022...  7f9df2b0       na  0  \n",
       "1587  [[-28.291798, -27.30752, -22.995605, -25.12479...  a2303efc       na  0  \n",
       "1588  [[-24.233467, -24.233543, -23.185856, -23.3856...  cb62e5cb       na  0  \n",
       "1589  [[-30.048372, -31.63204, -34.326054, -32.23139...  9ff1e0f0       na  0  \n",
       "1590  [[-24.401331, -23.91861, -23.461304, -26.98308...  39fd995a       na  0  \n",
       "1591  [[-23.27611, -29.501163, -35.945621, -29.50130...  544d0681       na  0  \n",
       "1592  [[-14.208546, -13.801398, -14.709263, -15.8063...  cb0319fc       na  0  \n",
       "1593  [[-26.055567, -27.394543, -28.55442, -30.38986...  d86deb2b       na  0  \n",
       "1594  [[-30.093304, -28.75441, -27.240044, -29.17828...  cdee905a       na  0  \n",
       "1595  [[-26.516129, -29.122847, -29.568417, -30.5345...  2539742b       na  0  \n",
       "1596  [[-25.165276, -24.682676, -25.41721, -30.02626...  2ea3c9f1       na  0  \n",
       "1597  [[-20.727669, -23.175728, -20.576469, -20.2819...  9cadda28       na  0  \n",
       "1598  [[-24.02071, -24.455181, -24.020878, -23.60726...  8376a077       na  0  \n",
       "1599  [[-27.847719, -28.233864, -24.712078, -24.4528...  04e11240       na  0  \n",
       "1600  [[-29.563713, -28.290375, -26.839405, -28.2904...  c7d6f6f8       na  0  \n",
       "1601  [[-25.305355, -29.387701, -28.963863, -26.1602...  bba1a0f1       na  0  \n",
       "1602  [[-26.070356, -22.093737, -21.577662, -24.5337...  7f66bb44       na  0  \n",
       "1603  [[-24.44487, -24.956001, -27.722103, -26.07841...  9d8f326c       na  0  \n",
       "\n",
       "[1604 rows x 5 columns]"
      ]
     },
     "execution_count": 396,
     "metadata": {},
     "output_type": "execute_result"
    }
   ],
   "source": [
    "pd.DataFrame(train_df.values)"
   ]
  },
  {
   "cell_type": "code",
   "execution_count": 5,
   "metadata": {},
   "outputs": [
    {
     "name": "stdout",
     "output_type": "stream",
     "text": [
      "<class 'pandas.core.frame.DataFrame'>\n",
      "Int64Index: 1604 entries, 0 to 1603\n",
      "Data columns (total 5 columns):\n",
      "band_1        1604 non-null object\n",
      "band_2        1604 non-null object\n",
      "id            1604 non-null object\n",
      "inc_angle     1604 non-null object\n",
      "is_iceberg    1604 non-null int64\n",
      "dtypes: int64(1), object(4)\n",
      "memory usage: 75.2+ KB\n"
     ]
    }
   ],
   "source": [
    "train_df.info()"
   ]
  },
  {
   "cell_type": "code",
   "execution_count": 393,
   "metadata": {
    "collapsed": true
   },
   "outputs": [],
   "source": [
    "train_df['band_1'] = train_df['band_1'].apply(lambda x: np.array(x).reshape(1,-1))\n",
    "train_df['band_2'] = train_df['band_2'].apply(lambda x: np.array(x).reshape(1,-1))"
   ]
  },
  {
   "cell_type": "code",
   "execution_count": 56,
   "metadata": {
    "collapsed": true
   },
   "outputs": [],
   "source": [
    "def plotimage(df, Id):\n",
    "    c = ('Boat', 'Iceberg')\n",
    "    _, a = plt.subplots(2,3)\n",
    "    a[0][0].imshow(df['band_1'].iloc[Id])\n",
    "    a[0][1].imshow(df['band_2'].iloc[Id])\n",
    "    a[0][2].imshow((df['band_1']+df['band_2']).iloc[Id])\n",
    "    a[1][0].hist(df['band_1'].iloc[Id])\n",
    "    a[1][1].hist(df['band_2'].iloc[Id])\n",
    "    a[1][2].hist((df['band_1']+df['band_2']).iloc[Id])\n",
    "    plt.suptitle(c[df['is_iceberg'].iloc[Id]])"
   ]
  },
  {
   "cell_type": "code",
   "execution_count": 59,
   "metadata": {
    "collapsed": true
   },
   "outputs": [
    {
     "data": {
      "image/png": "[encoded data removed]",
      "text/plain": [
       "<matplotlib.figure.Figure at 0x7f62d1b5f0f0>"
      ]
     },
     "metadata": {},
     "output_type": "display_data"
    }
   ],
   "source": [
    "plotimage(train_df, 2)"
   ]
  },
  {
   "cell_type": "code",
   "execution_count": 16,
   "metadata": {
    "collapsed": true
   },
   "outputs": [
    {
     "data": {
      "text/plain": [
       "<matplotlib.axes._subplots.AxesSubplot at 0x7f6ee2d7ca20>"
      ]
     },
     "execution_count": 16,
     "metadata": {},
     "output_type": "execute_result"
    },
    {
     "data": {
      "image/png": "[encoded data removed]",
      "text/plain": [
       "<matplotlib.figure.Figure at 0x7f6ef66906d8>"
      ]
     },
     "metadata": {},
     "output_type": "display_data"
    }
   ],
   "source": [
    "sns.countplot(train_df['is_iceberg'])"
   ]
  },
  {
   "cell_type": "markdown",
   "metadata": {},
   "source": [
    "# Feature Extraction"
   ]
  },
  {
   "cell_type": "markdown",
   "metadata": {},
   "source": [
    "......................................................................................................................................................................................................................................"
   ]
  },
  {
   "cell_type": "markdown",
   "metadata": {},
   "source": [
    "### Variance and mean of band1"
   ]
  },
  {
   "cell_type": "code",
   "execution_count": 308,
   "metadata": {
    "collapsed": true
   },
   "outputs": [],
   "source": [
    "var1 = []\n",
    "m1 = []\n",
    "for i in train_df['band_1']:\n",
    "    var1.append(np.var(i))\n",
    "    m1.append(np.mean(i))"
   ]
  },
  {
   "cell_type": "code",
   "execution_count": 309,
   "metadata": {
    "scrolled": true
   },
   "outputs": [
    {
     "name": "stdout",
     "output_type": "stream",
     "text": [
      "2.8309530732108263 0.19465608766114492\n"
     ]
    }
   ],
   "source": [
    "print(skew(var1), skew(m1))\n",
    "#print(skew(np.log(var1)), skew(np.log(m1)))"
   ]
  },
  {
   "cell_type": "code",
   "execution_count": 322,
   "metadata": {
    "collapsed": true
   },
   "outputs": [
    {
     "name": "stdout",
     "output_type": "stream",
     "text": [
      "-0.18694860714122713 -0.9830032474343193\n"
     ]
    },
    {
     "data": {
      "text/plain": [
       "<matplotlib.axes._subplots.AxesSubplot at 0x7f5a737e5ac8>"
      ]
     },
     "execution_count": 322,
     "metadata": {},
     "output_type": "execute_result"
    },
    {
     "data": {
      "image/png": "[encoded data removed]",
      "text/plain": [
       "<matplotlib.figure.Figure at 0x7f5a72f6c518>"
      ]
     },
     "metadata": {},
     "output_type": "display_data"
    }
   ],
   "source": [
    "#sns.kdeplot(var1)\n",
    "#print(skew(np.log(var1)),kurtosis(np.log(var1)))\n",
    "#print(skew(1/np.array(var1)), kurtosis(1/np.array(var1)))\n",
    "print(skew((e**(1/np.array(var1)))*6-7), kurtosis((e**(1/np.array(var1)))*6-7))\n",
    "#sns.kdeplot(np.log(var1)-2)\n",
    "sns.kdeplot((e**(1/np.array(var1)))*6-7)"
   ]
  },
  {
   "cell_type": "code",
   "execution_count": 329,
   "metadata": {
    "collapsed": true
   },
   "outputs": [
    {
     "name": "stdout",
     "output_type": "stream",
     "text": [
      "0.1946560876611429 -0.34910262604192344\n"
     ]
    },
    {
     "data": {
      "text/plain": [
       "<matplotlib.axes._subplots.AxesSubplot at 0x7f5a73e2d978>"
      ]
     },
     "execution_count": 329,
     "metadata": {},
     "output_type": "execute_result"
    },
    {
     "data": {
      "image/png": "[encoded data removed]",
      "text/plain": [
       "<matplotlib.figure.Figure at 0x7f5a73e39ba8>"
      ]
     },
     "metadata": {},
     "output_type": "display_data"
    }
   ],
   "source": [
    "#sns.kdeplot(m1)\n",
    "#print(skew(np.log(m1)), kurtosis(np.log(m1)))\n",
    "#print(skew(1/np.array(m1)), kurtosis(1/np.array(m1)))\n",
    "print(skew(((np.array(m1))/10)), kurtosis(((np.array(m1))/10)))\n",
    "#print(skew(np.sqrt(1/np.array(m1))), kurtosis(np.sqrt(1/np.array(m1))))\n",
    "#sns.kdeplot(np.log(m1)-2)\n",
    "#sns.kdeplot(1/7*np.array(m1)-1)\n",
    "sns.kdeplot(np.array(m1)/10+2)"
   ]
  },
  {
   "cell_type": "code",
   "execution_count": 330,
   "metadata": {
    "collapsed": true
   },
   "outputs": [],
   "source": [
    "var1 = (e**(1/np.array(var1)))*6-7\n",
    "m1 = np.array(m1)/10+2"
   ]
  },
  {
   "cell_type": "markdown",
   "metadata": {},
   "source": [
    "......................................................................................................................................................................................................................................"
   ]
  },
  {
   "cell_type": "markdown",
   "metadata": {},
   "source": [
    "### Varience, Mean of band2"
   ]
  },
  {
   "cell_type": "code",
   "execution_count": 331,
   "metadata": {
    "collapsed": true
   },
   "outputs": [],
   "source": [
    "var2 = []\n",
    "m2 = []\n",
    "for i in train_df['band_2']:\n",
    "    var2.append(np.var(i))\n",
    "    m2.append(np.mean(i))"
   ]
  },
  {
   "cell_type": "code",
   "execution_count": 188,
   "metadata": {
    "collapsed": true
   },
   "outputs": [
    {
     "name": "stdout",
     "output_type": "stream",
     "text": [
      "1.5400036319565844 1.8628310438464126\n"
     ]
    },
    {
     "data": {
      "text/plain": [
       "<matplotlib.axes._subplots.AxesSubplot at 0x7f5a7529ef60>"
      ]
     },
     "execution_count": 188,
     "metadata": {},
     "output_type": "execute_result"
    },
    {
     "data": {
      "image/png": "[encoded data removed]",
      "text/plain": [
       "<matplotlib.figure.Figure at 0x7f5a7518e940>"
      ]
     },
     "metadata": {},
     "output_type": "display_data"
    }
   ],
   "source": [
    "#sns.kdeplot(var1)\n",
    "#print(skew((e**(1/np.array(var2)))*6-7), kurtosis((e**(1/np.array(var2)))*6-7))\n",
    "print(skew(1.75*np.log(1/5*np.array(var2))), kurtosis(1.75*np.log(1/5*np.array(var2))))\n",
    "#sns.kdeplot(np.log(var2)-2)\n",
    "sns.kdeplot(np.log(1/5*np.array(var2))*1.75)"
   ]
  },
  {
   "cell_type": "code",
   "execution_count": 241,
   "metadata": {},
   "outputs": [
    {
     "data": {
      "text/plain": [
       "-0.017053931644336849"
      ]
     },
     "execution_count": 241,
     "metadata": {},
     "output_type": "execute_result"
    }
   ],
   "source": [
    "np.mean(np.log(1/5*np.array(m2))*1.75 - 0.5)"
   ]
  },
  {
   "cell_type": "code",
   "execution_count": 345,
   "metadata": {
    "collapsed": true
   },
   "outputs": [
    {
     "name": "stdout",
     "output_type": "stream",
     "text": [
      "0.06185774308144841 -0.5217520573825243\n"
     ]
    },
    {
     "data": {
      "text/plain": [
       "0.067517957446442706"
      ]
     },
     "execution_count": 345,
     "metadata": {},
     "output_type": "execute_result"
    },
    {
     "data": {
      "image/png": "[encoded data removed]",
      "text/plain": [
       "<matplotlib.figure.Figure at 0x7f5a73f2b4e0>"
      ]
     },
     "metadata": {},
     "output_type": "display_data"
    }
   ],
   "source": [
    "#sns.kdeplot(var1)\n",
    "print(skew(np.log(-np.array(m2))), kurtosis(np.log(-np.array(m2))))\n",
    "#print(skew(1.75*np.log(1/5*np.array(m2))), kurtosis(1.75*np.log(1/5*np.array(m2))))\n",
    "sns.kdeplot(np.log(-np.array(m2))-3.2)\n",
    "#sns.kdeplot(np.log(1/5*np.array(m2))*1.75)\n",
    "np.mean(np.log(-np.array(m2))-3.2)"
   ]
  },
  {
   "cell_type": "code",
   "execution_count": 346,
   "metadata": {
    "collapsed": true
   },
   "outputs": [],
   "source": [
    "m2 = np.log(-np.array(m2))-3.2\n",
    "var2 = np.log(1/5*np.array(var2))*1.75 - 0.5"
   ]
  },
  {
   "cell_type": "markdown",
   "metadata": {},
   "source": [
    "......................................................................................................................................................................................................................................"
   ]
  },
  {
   "cell_type": "markdown",
   "metadata": {},
   "source": [
    "### Max, min of band2"
   ]
  },
  {
   "cell_type": "code",
   "execution_count": 254,
   "metadata": {},
   "outputs": [],
   "source": [
    "max2 = []\n",
    "min2 = []\n",
    "for i in train_df['band_2']:\n",
    "    max2.append(max(i))\n",
    "    min2.append(min(i))"
   ]
  },
  {
   "cell_type": "code",
   "execution_count": 255,
   "metadata": {},
   "outputs": [
    {
     "name": "stdout",
     "output_type": "stream",
     "text": [
      "-0.2644036594638341 0.7047538046049776\n",
      "-0.30014989127806757 -0.2738855602583965\n"
     ]
    }
   ],
   "source": [
    "print(skew(min2), skew(max2))\n",
    "print(kurtosis(min2), kurtosis(max2))"
   ]
  },
  {
   "cell_type": "code",
   "execution_count": 256,
   "metadata": {
    "collapsed": true
   },
   "outputs": [
    {
     "data": {
      "text/plain": [
       "-0.0031173677369077317"
      ]
     },
     "execution_count": 256,
     "metadata": {},
     "output_type": "execute_result"
    },
    {
     "data": {
      "image/png": "[encoded data removed]",
      "text/plain": [
       "<matplotlib.figure.Figure at 0x7f5a7483b828>"
      ]
     },
     "metadata": {},
     "output_type": "display_data"
    }
   ],
   "source": [
    "sns.kdeplot((np.array(max2)/20)+0.5)\n",
    "np.mean((np.array(max2)/20)+0.5)"
   ]
  },
  {
   "cell_type": "code",
   "execution_count": 257,
   "metadata": {
    "collapsed": true
   },
   "outputs": [
    {
     "data": {
      "text/plain": [
       "-0.046530732294264292"
      ]
     },
     "execution_count": 257,
     "metadata": {},
     "output_type": "execute_result"
    },
    {
     "data": {
      "image/png": "[encoded data removed]",
      "text/plain": [
       "<matplotlib.figure.Figure at 0x7f5a7440de80>"
      ]
     },
     "metadata": {},
     "output_type": "display_data"
    }
   ],
   "source": [
    "sns.kdeplot((np.array(min2)/20)+1.8)\n",
    "np.mean((np.array(min2)/20)+1.8)"
   ]
  },
  {
   "cell_type": "code",
   "execution_count": 258,
   "metadata": {
    "collapsed": true
   },
   "outputs": [],
   "source": [
    "min2 = (np.array(min2)/20)+1.8\n",
    "max2 = (np.array(max2)/20)+0.5"
   ]
  },
  {
   "cell_type": "markdown",
   "metadata": {},
   "source": [
    "......................................................................................................................................................................................................................................"
   ]
  },
  {
   "cell_type": "markdown",
   "metadata": {},
   "source": [
    "### Max, min of band1"
   ]
  },
  {
   "cell_type": "code",
   "execution_count": 277,
   "metadata": {
    "collapsed": true
   },
   "outputs": [],
   "source": [
    "max1 = []\n",
    "min1 = []\n",
    "for i in train_df['band_1']:\n",
    "    max1.append(max(i))\n",
    "    min1.append(min(i))"
   ]
  },
  {
   "cell_type": "code",
   "execution_count": 260,
   "metadata": {},
   "outputs": [
    {
     "name": "stdout",
     "output_type": "stream",
     "text": [
      "0.05553983868903089 0.6459955657956542\n",
      "-0.2085820774011582 -0.05723645573038194\n"
     ]
    }
   ],
   "source": [
    "print(skew(min1), skew(max1))\n",
    "print(kurtosis(min1), kurtosis(max1))"
   ]
  },
  {
   "cell_type": "code",
   "execution_count": 278,
   "metadata": {
    "collapsed": true
   },
   "outputs": [
    {
     "data": {
      "text/plain": [
       "0.089093280268079791"
      ]
     },
     "execution_count": 278,
     "metadata": {},
     "output_type": "execute_result"
    },
    {
     "data": {
      "image/png": "[encoded data removed]",
      "text/plain": [
       "<matplotlib.figure.Figure at 0x7f5a73e065f8>"
      ]
     },
     "metadata": {},
     "output_type": "display_data"
    }
   ],
   "source": [
    "sns.kdeplot(np.array(max1)/20)\n",
    "np.mean(np.array(max1)/20)"
   ]
  },
  {
   "cell_type": "code",
   "execution_count": 279,
   "metadata": {
    "collapsed": true
   },
   "outputs": [
    {
     "data": {
      "text/plain": [
       "-0.038694942955112131"
      ]
     },
     "execution_count": 279,
     "metadata": {},
     "output_type": "execute_result"
    },
    {
     "data": {
      "image/png": "[encoded data removed]",
      "text/plain": [
       "<matplotlib.figure.Figure at 0x7f5a73c4a0b8>"
      ]
     },
     "metadata": {},
     "output_type": "display_data"
    }
   ],
   "source": [
    "sns.kdeplot(np.array(min1)/12+2.6)\n",
    "np.mean(np.array(min1)/12+2.6)"
   ]
  },
  {
   "cell_type": "code",
   "execution_count": 280,
   "metadata": {
    "collapsed": true
   },
   "outputs": [],
   "source": [
    "min1 = np.array(min1)/12+2.6\n",
    "max1 = np.array(max1)/20"
   ]
  },
  {
   "cell_type": "markdown",
   "metadata": {},
   "source": [
    "......................................................................................................................................................................................................................................"
   ]
  },
  {
   "cell_type": "markdown",
   "metadata": {},
   "source": [
    "## Combining features"
   ]
  },
  {
   "cell_type": "code",
   "execution_count": 456,
   "metadata": {},
   "outputs": [],
   "source": [
    "temp = pd.DataFrame()"
   ]
  },
  {
   "cell_type": "code",
   "execution_count": 457,
   "metadata": {
    "collapsed": true
   },
   "outputs": [],
   "source": [
    "temp['max_band1'] = max1\n",
    "temp['max_band2'] = max2\n",
    "temp['min_band1'] = min1\n",
    "temp['min_band2'] = min2\n",
    "temp['var_band1'] = var1\n",
    "temp['var_band2'] = var2\n",
    "temp['mean_band1'] = m1\n",
    "temp['mean_band2'] = m2\n",
    "#temp['is_iceberg'] = train_df['is_iceberg']"
   ]
  },
  {
   "cell_type": "code",
   "execution_count": 421,
   "metadata": {},
   "outputs": [
    {
     "name": "stderr",
     "output_type": "stream",
     "text": [
      "100%|██████████| 1604/1604 [00:22<00:00, 71.58it/s] \n"
     ]
    }
   ],
   "source": [
    "band1 = []\n",
    "for i in tqdm.tqdm(train_df['band_1']):\n",
    "    band1 = np.append(band1, i[0])\n",
    "band1 = band1.reshape(1604, 5625)"
   ]
  },
  {
   "cell_type": "code",
   "execution_count": 424,
   "metadata": {},
   "outputs": [
    {
     "name": "stderr",
     "output_type": "stream",
     "text": [
      "100%|██████████| 1604/1604 [00:22<00:00, 71.20it/s] \n"
     ]
    }
   ],
   "source": [
    "band2 = []\n",
    "for i in tqdm.tqdm(train_df['band_2']):\n",
    "    band2 = np.append(band2, i[0])\n",
    "band2 = np.array(band2).reshape(1604, 5625)"
   ]
  },
  {
   "cell_type": "code",
   "execution_count": 425,
   "metadata": {},
   "outputs": [],
   "source": [
    "pca1 = PCA(n_components = 30)\n",
    "pca1.fit(band1)\n",
    "pcadata1 = pca1.transform(band1)"
   ]
  },
  {
   "cell_type": "code",
   "execution_count": 427,
   "metadata": {},
   "outputs": [],
   "source": [
    "pca2 = PCA(n_components = 30)\n",
    "pca2.fit(band2)\n",
    "pcadata2 = pca2.transform(band2)"
   ]
  },
  {
   "cell_type": "code",
   "execution_count": 458,
   "metadata": {
    "scrolled": true
   },
   "outputs": [
    {
     "data": {
      "text/plain": [
       "(1604, 68)"
      ]
     },
     "execution_count": 458,
     "metadata": {},
     "output_type": "execute_result"
    }
   ],
   "source": [
    "temp = np.append(temp,pcadata1,1)\n",
    "temp = np.append(temp,pcadata2,1)"
   ]
  },
  {
   "cell_type": "markdown",
   "metadata": {},
   "source": [
    "# Model"
   ]
  },
  {
   "cell_type": "code",
   "execution_count": 469,
   "metadata": {},
   "outputs": [
    {
     "ename": "ImportError",
     "evalue": "No module named 'xgboost'",
     "output_type": "error",
     "traceback": [
      "\u001b[0;31m---------------------------------------------------------------------------\u001b[0m",
      "\u001b[0;31mImportError\u001b[0m                               Traceback (most recent call last)",
      "\u001b[0;32m<ipython-input-469-a9bcb4083d6e>\u001b[0m in \u001b[0;36m<module>\u001b[0;34m()\u001b[0m\n\u001b[1;32m      2\u001b[0m \u001b[0msys\u001b[0m\u001b[0;34m.\u001b[0m\u001b[0mpath\u001b[0m\u001b[0;34m.\u001b[0m\u001b[0mappend\u001b[0m\u001b[0;34m(\u001b[0m\u001b[0;34m'~'\u001b[0m\u001b[0;34m)\u001b[0m\u001b[0;34m\u001b[0m\u001b[0m\n\u001b[1;32m      3\u001b[0m \u001b[0;34m\u001b[0m\u001b[0m\n\u001b[0;32m----> 4\u001b[0;31m \u001b[0;32mimport\u001b[0m \u001b[0mxgboost\u001b[0m \u001b[0;32mas\u001b[0m \u001b[0mxgb\u001b[0m\u001b[0;34m\u001b[0m\u001b[0m\n\u001b[0m\u001b[1;32m      5\u001b[0m \u001b[0;31m#from xgboost.sklearn import XGBClassifier\u001b[0m\u001b[0;34m\u001b[0m\u001b[0;34m\u001b[0m\u001b[0m\n",
      "\u001b[0;31mImportError\u001b[0m: No module named 'xgboost'"
     ]
    }
   ],
   "source": [
    "import sys\n",
    "sys.path.append('~/xgboost')\n",
    "\n",
    "import xgboost as xgb\n",
    "#from xgboost.sklearn import XGBClassifier"
   ]
  }
 ],
 "metadata": {
  "kernelspec": {
   "display_name": "Python 3",
   "language": "python",
   "name": "python3"
  },
  "language_info": {
   "codemirror_mode": {
    "name": "ipython",
    "version": 3
   },
   "file_extension": ".py",
   "mimetype": "text/x-python",
   "name": "python",
   "nbconvert_exporter": "python",
   "pygments_lexer": "ipython3",
   "version": "3.5.4"
  }
 },
 "nbformat": 4,
 "nbformat_minor": 2
}
